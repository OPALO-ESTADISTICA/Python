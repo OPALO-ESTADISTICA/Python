{
 "cells": [
  {
   "cell_type": "markdown",
   "metadata": {},
   "source": [
    "## 2. Variables categóricas en Pandas"
   ]
  },
  {
   "cell_type": "code",
   "execution_count": 1,
   "metadata": {},
   "outputs": [],
   "source": [
    "import pandas as pd\n",
    "import numpy as np"
   ]
  },
  {
   "cell_type": "code",
   "execution_count": 2,
   "metadata": {},
   "outputs": [],
   "source": [
    "dogs = pd.read_csv(\"Datos\\ShelterDogs.csv\") # Importar conujnto de datos\n",
    "\n",
    "# Cambiar una variable tipo object a una categórica de tipo ordinal\n",
    "\n",
    "dogs[\"size\"] = dogs[\"size\"].astype(\"category\")\n",
    "dogs[\"size\"] = dogs[\"size\"].cat.set_categories([\"small\", \"medium\", \"large\"], ordered=True)"
   ]
  },
  {
   "cell_type": "markdown",
   "metadata": {},
   "source": [
    "### Agregar categorías"
   ]
  },
  {
   "cell_type": "code",
   "execution_count": 3,
   "metadata": {},
   "outputs": [
    {
     "data": {
      "text/plain": [
       "both flat and garden       1224\n",
       "NaN                        1021\n",
       "garden                      510\n",
       "flat                        182\n",
       "Open Yard (Countryside)       0\n",
       "Unknown History               0\n",
       "Name: keep_in, dtype: int64"
      ]
     },
     "execution_count": 3,
     "metadata": {},
     "output_type": "execute_result"
    }
   ],
   "source": [
    "dogs[\"keep_in\"] = dogs[\"keep_in\"].astype(\"category\")\n",
    "\n",
    "nuevas = [\"Unknown History\", \"Open Yard (Countryside)\"]\n",
    "dogs[\"keep_in\"] = dogs[\"keep_in\"].cat.add_categories(nuevas)\n",
    "dogs[\"keep_in\"].value_counts(dropna=False)"
   ]
  },
  {
   "cell_type": "markdown",
   "metadata": {},
   "source": [
    "### Remover categorías"
   ]
  },
  {
   "cell_type": "code",
   "execution_count": 4,
   "metadata": {},
   "outputs": [
    {
     "name": "stdout",
     "output_type": "stream",
     "text": [
      "both flat and garden       0.638831\n",
      "garden                     0.266180\n",
      "flat                       0.094990\n",
      "Open Yard (Countryside)    0.000000\n",
      "Name: keep_in, dtype: float64\n"
     ]
    }
   ],
   "source": [
    "# Remover categorías\n",
    "\n",
    "# Remover la categoría \"Unknown History\"\n",
    "dogs[\"keep_in\"] = dogs[\"keep_in\"].cat.remove_categories([\"Unknown History\"])\n",
    "\n",
    "# Imprimir tabla de frecuencias\n",
    "print(dogs[\"keep_in\"].value_counts(normalize=True))\n"
   ]
  },
  {
   "cell_type": "markdown",
   "metadata": {},
   "source": [
    "### Actualización de categorías"
   ]
  },
  {
   "cell_type": "code",
   "execution_count": 5,
   "metadata": {},
   "outputs": [
    {
     "name": "stdout",
     "output_type": "stream",
     "text": [
      "Index(['TINY', 'MEDIUM', 'LARGE'], dtype='object')\n"
     ]
    }
   ],
   "source": [
    "# Crear un diccionario de cambios\n",
    "cambios = {\"small\":\"tiny\"}\n",
    "\n",
    "# Renombrar las categorias\n",
    "dogs[\"size\"] = dogs[\"size\"].cat.rename_categories(cambios)\n",
    "\n",
    "# Usar la función lambda para convertir todas las categorias en mayúscula usando al función upper()\n",
    "dogs[\"size\"] =  dogs[\"size\"].cat.rename_categories(lambda c: c.upper())\n",
    "\n",
    "# Imprimir la lista de categorias\n",
    "print(dogs[\"size\"].cat.categories)\n"
   ]
  },
  {
   "cell_type": "markdown",
   "metadata": {},
   "source": [
    "### Colapsar o cambiar simultaneamente valores a las categorías"
   ]
  },
  {
   "cell_type": "code",
   "execution_count": 6,
   "metadata": {},
   "outputs": [
    {
     "name": "stdout",
     "output_type": "stream",
     "text": [
      "short     1972\n",
      "medium     785\n",
      "long       180\n",
      "Name: coat_collapsed, dtype: int64\n"
     ]
    }
   ],
   "source": [
    "# Crear un diccionario con los valores actualizados\n",
    "update_coats = {\"wirehaired\":\"medium\", \"medium-long\":\"medium\"}\n",
    "\n",
    "# Crear una nueva columna para la actualización (colapsada). La función replace es la encargada de hacer el reemplazo\n",
    "dogs[\"coat_collapsed\"] = dogs[\"coat\"].replace(update_coats)\n",
    "\n",
    "# Convertir la nueva columna en categórica\n",
    "dogs[\"coat_collapsed\"] = dogs[\"coat_collapsed\"].astype(\"category\")\n",
    "\n",
    "# Imprimir frecuencias\n",
    "print(dogs[\"coat_collapsed\"].value_counts())"
   ]
  },
  {
   "cell_type": "markdown",
   "metadata": {},
   "source": [
    "### Re organizar las categorías (convertir en variables ordinales)"
   ]
  },
  {
   "cell_type": "code",
   "execution_count": 7,
   "metadata": {},
   "outputs": [
    {
     "name": "stdout",
     "output_type": "stream",
     "text": [
      "Index(['TINY', 'MEDIUM', 'LARGE'], dtype='object')\n",
      "size    sex   \n",
      "TINY    male       260\n",
      "        female     214\n",
      "MEDIUM  male      1090\n",
      "        female     854\n",
      "LARGE   male       331\n",
      "        female     188\n",
      "Name: sex, dtype: int64\n"
     ]
    }
   ],
   "source": [
    "# Imprimir los valores actuales de la columna size\n",
    "print(dogs[\"size\"].cat.categories)\n",
    "\n",
    "# Re ordenar las categorías y sobre escribiendo los valores originales\n",
    "dogs[\"size\"].cat.reorder_categories(new_categories=['TINY', 'MEDIUM', 'LARGE'], ordered=True, inplace=True)\n",
    "\n",
    "print(dogs.groupby(by=\"size\")[\"sex\"].value_counts())"
   ]
  },
  {
   "cell_type": "markdown",
   "metadata": {},
   "source": [
    "## 2. Identificación de problemas con variables categóricas"
   ]
  },
  {
   "cell_type": "code",
   "execution_count": 9,
   "metadata": {},
   "outputs": [
    {
     "name": "stdout",
     "output_type": "stream",
     "text": [
      "35\n",
      "male      1681\n",
      "female    1256\n",
      "Name: sex, dtype: int64\n"
     ]
    }
   ],
   "source": [
    "# Reemplazar una palabra mal escrita\n",
    "replace_map = {\"Malez\": \"male\"}\n",
    "\n",
    "# Actualizar la columna sex con el diccionario creado\n",
    "dogs[\"sex\"] = dogs[\"sex\"].replace(replace_map)\n",
    "\n",
    "# Eliminar espacios al inicio\n",
    "dogs[\"sex\"] = dogs[\"sex\"].str.strip()\n",
    "\n",
    "# Convertir todas las categorías en minúscula\n",
    "dogs[\"sex\"] = dogs[\"sex\"].str.lower()\n",
    "\n",
    "# Convertir a una serie categórica\n",
    "dogs[\"sex\"] = dogs[\"sex\"].astype(\"category\")\n",
    "\n",
    "# Imprimir el número de perros que contienen la palabra Englis en su nombre\n",
    "print(dogs[dogs[\"breed\"].str.contains(\"English\", regex=False)].shape[0])\n",
    "\n",
    "print(dogs[\"sex\"].value_counts())"
   ]
  }
 ],
 "metadata": {
  "kernelspec": {
   "display_name": "Python 3",
   "language": "python",
   "name": "python3"
  },
  "language_info": {
   "codemirror_mode": {
    "name": "ipython",
    "version": 3
   },
   "file_extension": ".py",
   "mimetype": "text/x-python",
   "name": "python",
   "nbconvert_exporter": "python",
   "pygments_lexer": "ipython3",
   "version": "3.8.8"
  }
 },
 "nbformat": 4,
 "nbformat_minor": 4
}
