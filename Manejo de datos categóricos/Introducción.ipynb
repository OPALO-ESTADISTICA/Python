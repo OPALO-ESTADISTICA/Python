{
 "cells": [
  {
   "cell_type": "markdown",
   "metadata": {},
   "source": [
    "# Introducción al manejo de datos categóricos"
   ]
  },
  {
   "cell_type": "code",
   "execution_count": 1,
   "metadata": {},
   "outputs": [],
   "source": [
    "import pandas as pd\n",
    "import numpy as nup\n",
    "import matplotlib.pyplot as plt\n",
    "import seaborn as sns"
   ]
  },
  {
   "cell_type": "code",
   "execution_count": 17,
   "metadata": {},
   "outputs": [
    {
     "name": "stdout",
     "output_type": "stream",
     "text": [
      "<class 'pandas.core.frame.DataFrame'>\n",
      "RangeIndex: 32561 entries, 0 to 32560\n",
      "Data columns (total 15 columns):\n",
      " #   Column           Non-Null Count  Dtype \n",
      "---  ------           --------------  ----- \n",
      " 0   Age              32561 non-null  int64 \n",
      " 1   Workclass        32561 non-null  object\n",
      " 2   fnlgwt           32561 non-null  int64 \n",
      " 3   Education        32561 non-null  object\n",
      " 4   Education Num    32561 non-null  int64 \n",
      " 5   Marital Status   32561 non-null  object\n",
      " 6   Occupation       32561 non-null  object\n",
      " 7   Relationship     32561 non-null  object\n",
      " 8   Race             32561 non-null  object\n",
      " 9   Sex              32561 non-null  object\n",
      " 10  Capital Gain     32561 non-null  int64 \n",
      " 11  Capital Loss     32561 non-null  int64 \n",
      " 12  Hours/Week       32561 non-null  int64 \n",
      " 13  Country          32561 non-null  object\n",
      " 14  Above/Below 50k  32561 non-null  object\n",
      "dtypes: int64(6), object(9)\n",
      "memory usage: 3.7+ MB\n"
     ]
    }
   ],
   "source": [
    "# Importar conjunto de datos para revisar manejor de datos categóricos\n",
    "\n",
    "df = pd.read_csv(r\"datos\\adult.csv\") # Se importa el conjunto de datos\n",
    "\n",
    "df.info()"
   ]
  },
  {
   "cell_type": "markdown",
   "metadata": {},
   "source": [
    "El conjunto de datos \"adult\" cuenta con 15 variables, donde aquellas de dtype = object se pueden pensar como categóricas (si es de tipo \"object\" no necesariamente es categórica). Se revisa a detalle la variable asociada a los ingresos superiores a 50k"
   ]
  },
  {
   "cell_type": "code",
   "execution_count": 16,
   "metadata": {},
   "outputs": [
    {
     "name": "stdout",
     "output_type": "stream",
     "text": [
      "count      32561\n",
      "unique         2\n",
      "top        <=50K\n",
      "freq       24720\n",
      "Name: Above/Below 50k, dtype: object\n",
      "\n",
      "  <=50K    24720\n",
      " >50K      7841\n",
      "Name: Above/Below 50k, dtype: int64\n",
      "\n",
      "  <=50K    0.75919\n",
      " >50K     0.24081\n",
      "Name: Above/Below 50k, dtype: float64\n"
     ]
    }
   ],
   "source": [
    "print(df['Above/Below 50k'].describe())                           # Describe la serie \"Above/Below 50k\"\n",
    "print(\"\\n\", df[\"Above/Below 50k\"].value_counts())                 # Muestra tabla de frecuencias\n",
    "print(\"\\n\", df[\"Above/Below 50k\"].value_counts(normalize=True))   # Muestra tabla de frecuencias relativas"
   ]
  },
  {
   "cell_type": "markdown",
   "metadata": {},
   "source": [
    "### 1. Convertir las series \"dtype = object\" a \"dtype = categorical\"\n",
    "\n",
    "Para facilitar el manejo de los datos categóricos se recomienda convertirlos a este tipo de tal manera que se pueda facilitar su manipulación desde pandas"
   ]
  },
  {
   "cell_type": "code",
   "execution_count": 27,
   "metadata": {},
   "outputs": [
    {
     "name": "stdout",
     "output_type": "stream",
     "text": [
      "Tipo: object\n",
      "Número de bytes: 260488\n"
     ]
    }
   ],
   "source": [
    "# Existen diversas alternativas para convertir una serie a dtype=categorical\n",
    "\n",
    "serie1 = pd.Series(df[\"Occupation\"])    # Se crea una variable para almacenar la serie \"Occupation\"\n",
    "\n",
    "print(\"Tipo:\", serie1.dtype)                 # Imprimir el tipo de dato. \"O\" significa objeto\n",
    "print(\"Número de bytes:\", serie1.nbytes)     # Imprimir el número de bytes ocupados por la serie"
   ]
  },
  {
   "cell_type": "code",
   "execution_count": 29,
   "metadata": {},
   "outputs": [
    {
     "name": "stdout",
     "output_type": "stream",
     "text": [
      "Tipo: category\n",
      "Número de bytes: 32681\n"
     ]
    }
   ],
   "source": [
    "serie2 = pd.Series(df[\"Occupation\"], dtype=\"category\")    # Se crea la serie2 pero ahora de tipo \"category\"\n",
    "\n",
    "print(\"Tipo:\", serie2.dtype)                              # Imprimir el tipo de dato. En este caso cambia a category\n",
    "print(\"Número de bytes:\", serie2.nbytes)                  # Imprimir el número de bytes ocupados por la serie"
   ]
  },
  {
   "cell_type": "code",
   "execution_count": 33,
   "metadata": {},
   "outputs": [
    {
     "name": "stdout",
     "output_type": "stream",
     "text": [
      "<class 'pandas.core.frame.DataFrame'>\n",
      "RangeIndex: 32561 entries, 0 to 32560\n",
      "Data columns (total 15 columns):\n",
      " #   Column           Non-Null Count  Dtype   \n",
      "---  ------           --------------  -----   \n",
      " 0   Age              32561 non-null  int64   \n",
      " 1   Workclass        32561 non-null  category\n",
      " 2   fnlgwt           32561 non-null  int64   \n",
      " 3   Education        32561 non-null  category\n",
      " 4   Education Num    32561 non-null  int64   \n",
      " 5   Marital Status   32561 non-null  object  \n",
      " 6   Occupation       32561 non-null  object  \n",
      " 7   Relationship     32561 non-null  category\n",
      " 8   Race             32561 non-null  object  \n",
      " 9   Sex              32561 non-null  object  \n",
      " 10  Capital Gain     32561 non-null  int64   \n",
      " 11  Capital Loss     32561 non-null  int64   \n",
      " 12  Hours/Week       32561 non-null  int64   \n",
      " 13  Country          32561 non-null  object  \n",
      " 14  Above/Below 50k  32561 non-null  category\n",
      "dtypes: category(4), int64(6), object(5)\n",
      "memory usage: 2.9+ MB\n"
     ]
    }
   ],
   "source": [
    "# Es posible cambiar de manera simultanea el tipo de varias columnas en un arreglo dataframe\n",
    "\n",
    "adult_dtype = {\"Workclass\": \"category\",\n",
    "               \"Education\": \"category\",\n",
    "               \"Relationship\": \"category\",\n",
    "               \"Above/Below 50k\": \"category\"}           # Se crea un diccionario para detallar las variables que son categóricas\n",
    "\n",
    "df = pd.read_csv(r\"datos\\adult.csv\", dtype=adult_dtype) # Se muestra la información de todas las variables\n",
    "df.info()"
   ]
  },
  {
   "cell_type": "code",
   "execution_count": 35,
   "metadata": {},
   "outputs": [
    {
     "data": {
      "text/plain": [
       "[' <=50K', ' >50K']\n",
       "Categories (2, object): [' <=50K', ' >50K']"
      ]
     },
     "execution_count": 35,
     "metadata": {},
     "output_type": "execute_result"
    }
   ],
   "source": [
    "df[\"Above/Below 50k\"].unique()"
   ]
  },
  {
   "cell_type": "markdown",
   "metadata": {},
   "source": [
    "## 2. Agrupar datos por categoría "
   ]
  },
  {
   "cell_type": "code",
   "execution_count": 39,
   "metadata": {},
   "outputs": [
    {
     "data": {
      "text/html": [
       "<div>\n",
       "<style scoped>\n",
       "    .dataframe tbody tr th:only-of-type {\n",
       "        vertical-align: middle;\n",
       "    }\n",
       "\n",
       "    .dataframe tbody tr th {\n",
       "        vertical-align: top;\n",
       "    }\n",
       "\n",
       "    .dataframe thead th {\n",
       "        text-align: right;\n",
       "    }\n",
       "</style>\n",
       "<table border=\"1\" class=\"dataframe\">\n",
       "  <thead>\n",
       "    <tr style=\"text-align: right;\">\n",
       "      <th></th>\n",
       "      <th>Age</th>\n",
       "      <th>Workclass</th>\n",
       "      <th>fnlgwt</th>\n",
       "      <th>Education</th>\n",
       "      <th>Education Num</th>\n",
       "      <th>Marital Status</th>\n",
       "      <th>Occupation</th>\n",
       "      <th>Relationship</th>\n",
       "      <th>Race</th>\n",
       "      <th>Sex</th>\n",
       "      <th>Capital Gain</th>\n",
       "      <th>Capital Loss</th>\n",
       "      <th>Hours/Week</th>\n",
       "      <th>Country</th>\n",
       "    </tr>\n",
       "    <tr>\n",
       "      <th>Above/Below 50k</th>\n",
       "      <th></th>\n",
       "      <th></th>\n",
       "      <th></th>\n",
       "      <th></th>\n",
       "      <th></th>\n",
       "      <th></th>\n",
       "      <th></th>\n",
       "      <th></th>\n",
       "      <th></th>\n",
       "      <th></th>\n",
       "      <th></th>\n",
       "      <th></th>\n",
       "      <th></th>\n",
       "      <th></th>\n",
       "    </tr>\n",
       "  </thead>\n",
       "  <tbody>\n",
       "    <tr>\n",
       "      <th>&lt;=50K</th>\n",
       "      <td>24720</td>\n",
       "      <td>24720</td>\n",
       "      <td>24720</td>\n",
       "      <td>24720</td>\n",
       "      <td>24720</td>\n",
       "      <td>24720</td>\n",
       "      <td>24720</td>\n",
       "      <td>24720</td>\n",
       "      <td>24720</td>\n",
       "      <td>24720</td>\n",
       "      <td>24720</td>\n",
       "      <td>24720</td>\n",
       "      <td>24720</td>\n",
       "      <td>24720</td>\n",
       "    </tr>\n",
       "    <tr>\n",
       "      <th>&gt;50K</th>\n",
       "      <td>7841</td>\n",
       "      <td>7841</td>\n",
       "      <td>7841</td>\n",
       "      <td>7841</td>\n",
       "      <td>7841</td>\n",
       "      <td>7841</td>\n",
       "      <td>7841</td>\n",
       "      <td>7841</td>\n",
       "      <td>7841</td>\n",
       "      <td>7841</td>\n",
       "      <td>7841</td>\n",
       "      <td>7841</td>\n",
       "      <td>7841</td>\n",
       "      <td>7841</td>\n",
       "    </tr>\n",
       "  </tbody>\n",
       "</table>\n",
       "</div>"
      ],
      "text/plain": [
       "                   Age  Workclass  fnlgwt  Education  Education Num  \\\n",
       "Above/Below 50k                                                       \n",
       " <=50K           24720      24720   24720      24720          24720   \n",
       " >50K             7841       7841    7841       7841           7841   \n",
       "\n",
       "                 Marital Status  Occupation  Relationship   Race    Sex  \\\n",
       "Above/Below 50k                                                           \n",
       " <=50K                    24720       24720         24720  24720  24720   \n",
       " >50K                      7841        7841          7841   7841   7841   \n",
       "\n",
       "                 Capital Gain  Capital Loss  Hours/Week  Country  \n",
       "Above/Below 50k                                                   \n",
       " <=50K                  24720         24720       24720    24720  \n",
       " >50K                    7841          7841        7841     7841  "
      ]
     },
     "execution_count": 39,
     "metadata": {},
     "output_type": "execute_result"
    }
   ],
   "source": [
    "# Para agrupar los datos por categorías se úede acudir a diversas estrategias: condicional y función groupby\n",
    "\n",
    "A = df[df[\"Above/Below 50k\"] == ' <=50K'] # Se establece una condición y se almacenan los valores\n",
    "df.groupby(by=\"Above/Below 50k\").count()  # Agrupa las observaciones por categoría y aplica la función count()"
   ]
  },
  {
   "cell_type": "code",
   "execution_count": 47,
   "metadata": {},
   "outputs": [
    {
     "data": {
      "text/plain": [
       "Education      Above/Below 50k\n",
       " 10th           <=50K              871\n",
       "                >50K                62\n",
       " 11th           <=50K             1115\n",
       "                >50K                60\n",
       " 12th           <=50K              400\n",
       "                >50K                33\n",
       " 1st-4th        <=50K              162\n",
       "                >50K                 6\n",
       " 5th-6th        <=50K              317\n",
       "                >50K                16\n",
       " 7th-8th        <=50K              606\n",
       "                >50K                40\n",
       " 9th            <=50K              487\n",
       "                >50K                27\n",
       " Assoc-acdm     <=50K              802\n",
       "                >50K               265\n",
       " Assoc-voc      <=50K             1021\n",
       "                >50K               361\n",
       " Bachelors      <=50K             3134\n",
       "                >50K              2221\n",
       " Doctorate      <=50K              107\n",
       "                >50K               306\n",
       " HS-grad        <=50K             8826\n",
       "                >50K              1675\n",
       " Masters        <=50K              764\n",
       "                >50K               959\n",
       " Preschool      <=50K               51\n",
       "                >50K                 0\n",
       " Prof-school    <=50K              153\n",
       "                >50K               423\n",
       " Some-college   <=50K             5904\n",
       "                >50K              1387\n",
       "Name: Hours/Week, dtype: int64"
      ]
     },
     "execution_count": 47,
     "metadata": {},
     "output_type": "execute_result"
    }
   ],
   "source": [
    "gb = df.groupby(by=[\"Education\", \"Above/Below 50k\"])[\"Hours/Week\"].count() # Agrupar de acuerdo a dos categorías y filtrar\n",
    "gb"
   ]
  }
 ],
 "metadata": {
  "kernelspec": {
   "display_name": "Python 3",
   "language": "python",
   "name": "python3"
  },
  "language_info": {
   "codemirror_mode": {
    "name": "ipython",
    "version": 3
   },
   "file_extension": ".py",
   "mimetype": "text/x-python",
   "name": "python",
   "nbconvert_exporter": "python",
   "pygments_lexer": "ipython3",
   "version": "3.8.8"
  }
 },
 "nbformat": 4,
 "nbformat_minor": 4
}
