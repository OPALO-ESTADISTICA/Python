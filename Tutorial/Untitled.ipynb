{
 "cells": [
  {
   "cell_type": "markdown",
   "id": "a4ed01ac",
   "metadata": {},
   "source": [
    "## Limpieza de datos: Ejercicio"
   ]
  },
  {
   "cell_type": "markdown",
   "id": "21ace082",
   "metadata": {},
   "source": [
    "### Exploración de datos\n",
    "\n",
    "La manipulación y limpieza de datos resulta ser una tarea tediosoa, pero de suma importancia en la analítica de datos. Un buen habito siempre es tomar algunas observaciones y manipularlas manualmente para conocer más de cerca a lo que se esta haciendo frente. Puede que parezca algo aburrido o arcaico pero con seguridad pemitirá acelerar el procesamiento automático y análisis más complejos.\n",
    "\n",
    "A continuación se presenta un caso en el que buscaremos limpiar un conjunto de datos y alistarlo para análisis más profundos"
   ]
  },
  {
   "cell_type": "code",
   "execution_count": 1,
   "id": "9a88dcd0",
   "metadata": {},
   "outputs": [],
   "source": [
    "# Importación de librerías\n",
    "\n",
    "import pandas as pd\n",
    "import numpy as np\n",
    "import matplotlib.pyplot as plt\n",
    "import seaborn as sns\n",
    "import math\n",
    "import base64\n",
    "\n",
    "import os"
   ]
  },
  {
   "cell_type": "code",
   "execution_count": 2,
   "id": "c20672c3",
   "metadata": {},
   "outputs": [],
   "source": [
    "df = pd.read_csv(\"data/Limpieza/trips.csv\") # Importación de datos "
   ]
  },
  {
   "cell_type": "markdown",
   "id": "9256a13c",
   "metadata": {},
   "source": [
    "En un primer momento se desa conocer el significado de cada una de las columnas, o mejor llamadas variables: A continuación se describe cada una de ellas\n",
    "\n",
    "1. **Rental Id:** Un usuario puede alquilar cualquier bicicleta en la ciudad durante el día por un costo de £2. Esta columna corresponde al Id de una transacción de alquile, por lo que puede corresponder a más de una bicicleta (No es el Id de un viaje)\n",
    "\n",
    "2. **Duration:** Duración del viaje en segundos\n",
    "\n",
    "3. **Bike Id:** Identificación de la bicicleta alquilada\n",
    "\n",
    "4. **End Date:** Momento final del viaje\n",
    "\n",
    "5. **EndStation Id:** Id de la estación donde el viaje finalizó\n",
    "\n",
    "6. **Start Date:** Momento de inicio del viaje\n",
    "\n",
    "7. **StartStation** Id de la estación donde el viaje inicio\n",
    "\n",
    "8. **tag** Etiqueta asignada a cada uno de los viajes para facilitar la agrupación de viajes\n",
    "\n",
    "9. **userCategory** Puede se A (Usuario ocasional) o B (Usuario frecuente)"
   ]
  },
  {
   "cell_type": "markdown",
   "id": "4f20e3a7",
   "metadata": {},
   "source": [
    "## Formato\n",
    "\n",
    "Al momento de exportar nuestro conjunto de datos limpios va a ser necesario que nos aseguremos que el formato en que lo guardemos y su codificación sea la deseada"
   ]
  },
  {
   "cell_type": "markdown",
   "id": "43b335ff",
   "metadata": {},
   "source": [
    "## Relevancia\n",
    "\n",
    "Se ha de sustituir valores perdidos dependiendo del tipo de variable que se este procesando."
   ]
  },
  {
   "cell_type": "code",
   "execution_count": 3,
   "id": "214ca810",
   "metadata": {},
   "outputs": [],
   "source": [
    "# Asignar el valor de \"Not available\" en las casillas vacías\n",
    "df[\"Bike Id\"] = df[\"Bike Id\"].fillna('Not available')            \n",
    "df[\"EndStation Id\"] = df[\"EndStation Id\"].fillna('Not available')"
   ]
  },
  {
   "cell_type": "markdown",
   "id": "8d631cc8",
   "metadata": {},
   "source": [
    "### Interpolación de valores perdidos\n",
    "\n",
    "La interpolación consiste en asignar valores a espacios vacíos utilizando diferentes alternativas como regresiones lineales, que es el caso de la función `.iterpolate()` en pandas."
   ]
  },
  {
   "cell_type": "code",
   "execution_count": 4,
   "id": "c7dd0be6",
   "metadata": {},
   "outputs": [],
   "source": [
    "# Convertir la variable userCateory en una categoría y no cadena de texto\n",
    "\n",
    "df['userCategory'] = df['userCategory'].astype('category')"
   ]
  },
  {
   "cell_type": "code",
   "execution_count": 5,
   "id": "26c86d2e",
   "metadata": {},
   "outputs": [
    {
     "data": {
      "text/plain": [
       "array([ 0,  1, -1], dtype=int8)"
      ]
     },
     "execution_count": 5,
     "metadata": {},
     "output_type": "execute_result"
    }
   ],
   "source": [
    "df['userCategory'].cat.codes.unique() # El valor de -1 indica un NaN"
   ]
  },
  {
   "cell_type": "code",
   "execution_count": 6,
   "id": "471a9b07",
   "metadata": {},
   "outputs": [],
   "source": [
    "#  Sustituir los valores perdidos -1 con NaN\n",
    "user_cat_codes = df['userCategory'].cat.codes.replace(-1, np.nan)\n",
    "\n",
    "# Aplicar la función de interpolación para sustituir los NaN con 0 o 1\n",
    "user_cat_codes = user_cat_codes.interpolate()"
   ]
  },
  {
   "cell_type": "code",
   "execution_count": 7,
   "id": "3c412a83",
   "metadata": {},
   "outputs": [],
   "source": [
    "# Convertir los códigos a valores categóricos\n",
    "\n",
    "user_cat_codes = user_cat_codes.astype(int).astype('category')\n",
    "\n",
    "# Reemplazar las categorías para el conjunto de datos original\n",
    "\n",
    "df['userCategory'] = user_cat_codes"
   ]
  },
  {
   "cell_type": "markdown",
   "id": "5e6c20ef",
   "metadata": {},
   "source": [
    "## Consistencia en el tipo de datos\n",
    "\n",
    "Se debe verificar que el tipo de dato sea consistente con las características de las variables. Por ejemplo: `userCategory` corresponde a una variable de tipo categórica, por lo que se debe asegurar que en el DataFrame corresponda su tipo"
   ]
  },
  {
   "cell_type": "code",
   "execution_count": 8,
   "id": "e2bc7ee9",
   "metadata": {},
   "outputs": [
    {
     "name": "stdout",
     "output_type": "stream",
     "text": [
      "<class 'pandas.core.frame.DataFrame'>\n",
      "RangeIndex: 3767036 entries, 0 to 3767035\n",
      "Data columns (total 9 columns):\n",
      " #   Column           Dtype   \n",
      "---  ------           -----   \n",
      " 0   Rental Id        int64   \n",
      " 1   Duration         int64   \n",
      " 2   Bike Id          object  \n",
      " 3   End Date         object  \n",
      " 4   EndStation Id    object  \n",
      " 5   Start Date       object  \n",
      " 6   StartStation Id  int64   \n",
      " 7   tag              object  \n",
      " 8   userCategory     category\n",
      "dtypes: category(1), int64(3), object(5)\n",
      "memory usage: 233.5+ MB\n"
     ]
    }
   ],
   "source": [
    "df.info()"
   ]
  },
  {
   "cell_type": "code",
   "execution_count": 9,
   "id": "38f3a46a",
   "metadata": {},
   "outputs": [],
   "source": [
    "df[\"Rental Id\"] = df[\"Rental Id\"].astype(\"category\")\n",
    "df[\"Bike Id\"] = df[\"Bike Id\"].astype(\"category\")\n",
    "df[\"EndStation Id\"] = df[\"EndStation Id\"].astype(\"category\")\n",
    "df[\"StartStation Id\"] = df[\"StartStation Id\"].astype(\"category\")\n",
    "df[\"tag\"] = df[\"tag\"].astype(\"category\")"
   ]
  },
  {
   "cell_type": "markdown",
   "id": "d1702b40",
   "metadata": {},
   "source": [
    "Igualmente es preciso verificar si las categorías son consistentes para cada una de las variables. En este caso se puede evidenciar un problema de consistencia con la variable `tag`. Al parecer se les asignó el mismo nombre pero escrito de diferente manera"
   ]
  },
  {
   "cell_type": "code",
   "execution_count": 10,
   "id": "9119ddcf",
   "metadata": {},
   "outputs": [],
   "source": [
    "rename_dict = {\"Priority low\":\"low\",\n",
    "               \"priority_high\":\"high\",\n",
    "               \"priority Medium\":\"medium\",\n",
    "               \"priority_medium\":\"medium\",\n",
    "               \"priority low\":\"low\"\n",
    "              }\n",
    "df[\"tag\"] = df[\"tag\"].replace(rename_dict).astype(\"category\")"
   ]
  },
  {
   "cell_type": "markdown",
   "id": "8ef6aeef",
   "metadata": {},
   "source": [
    "## Consistencia en los nombres de las variables\n",
    "\n",
    "Con el propósito que todas las variables estén escritas en un mismo sentido (minúsculas, sin espacios, etc), se hace una verificación y cambio en las columnas de nuestro DataFrame"
   ]
  },
  {
   "cell_type": "code",
   "execution_count": 11,
   "id": "f4fd61f1",
   "metadata": {},
   "outputs": [],
   "source": [
    "columns_dict = {\"Rental Id\":\"rental_id\",\n",
    "                \"Duration\":\"duration\",\n",
    "                \"Bike Id\":\"bike_id\",\n",
    "                \"End Date\":\"end_date\",\n",
    "                \"EndStation Id\":\"end_station_id\",\n",
    "                \"Start Date\":\"start_date\",\n",
    "                \"StartStation Id\":\"start_station_id\",\n",
    "                \"userCategory\":\"user_category\"\n",
    "               }\n",
    "df = df.rename(columns=columns_dict)"
   ]
  },
  {
   "cell_type": "markdown",
   "id": "c6174465",
   "metadata": {},
   "source": [
    "## Integridad referencial"
   ]
  },
  {
   "cell_type": "markdown",
   "id": "9c7817e7",
   "metadata": {},
   "source": [
    "Para garantizar que nuestro análisis sea correcto se debe verificar que no hayan valores duplicados que puedan ser redundantes y viciar el análisis. Para hacer frente a este problema pandas permite usar la función `.drop_duplicates()` que elimina aquellas observaciones donde todos los valores de las variables sean iguales"
   ]
  },
  {
   "cell_type": "code",
   "execution_count": 12,
   "id": "3cc4a8d2",
   "metadata": {},
   "outputs": [],
   "source": [
    "df = df.drop_duplicates()"
   ]
  },
  {
   "cell_type": "code",
   "execution_count": 14,
   "id": "e7e8c490",
   "metadata": {},
   "outputs": [
    {
     "data": {
      "text/plain": [
       "Index(['rental_id', 'duration', 'bike_id', 'end_date', 'end_station_id',\n",
       "       'start_date', 'start_station_id', 'tag', 'user_category'],\n",
       "      dtype='object')"
      ]
     },
     "execution_count": 14,
     "metadata": {},
     "output_type": "execute_result"
    }
   ],
   "source": [
    "df.columns"
   ]
  },
  {
   "cell_type": "markdown",
   "id": "726f7b33",
   "metadata": {},
   "source": [
    "Para los propósitos de este caso resulta que se desea construir una etiqueta para cada uno de los viajes. Cada uno de los viajes es único para la combinación: `Start Date, End Date y Bike_Id`. El módulo base 64 permite crear códigos únicos considerando una cadena de texto. A continuación se muestra un ejemplo de su uso"
   ]
  },
  {
   "cell_type": "code",
   "execution_count": 15,
   "id": "b2767822",
   "metadata": {},
   "outputs": [
    {
     "data": {
      "text/plain": [
       "array(['MDMvMDkvMjAyMCAyMDowNDowMy8wOS8yMDIwIDIwOjMyOjEyODI5LjA=',\n",
       "       'MDYvMDkvMjAyMCAxMjoxMTowNi8wOS8yMDIwIDEyOjU2OjEwODYzLjA=',\n",
       "       'MDIvMDkvMjAyMCAxMDo0OTowMi8wOS8yMDIwIDEwOjU2OjM5OTcuMA==', ...,\n",
       "       'MDQvMDIvMjAyMSAxNToxNzowNC8wMi8yMDIxIDE1OjIyOjM5NDMuMA==',\n",
       "       'MDYvMDIvMjAyMSAxMDozMzowNi8wMi8yMDIxIDEwOjM0OjIzMjcuMA==',\n",
       "       'MDYvMDIvMjAyMSAxNjoxODowNi8wMi8yMDIxIDE2OjE5OjU2NS4w'],\n",
       "      dtype=object)"
      ]
     },
     "execution_count": 15,
     "metadata": {},
     "output_type": "execute_result"
    }
   ],
   "source": [
    "# Se crea una columna para el identificador del viaje. Su valor será la combinación de Start Date, End Date y Bike_Id\n",
    "df['trip_id'] = df.apply(lambda x: ':'.join([str(x['start_date']), str(x['end_date']), str(x['bike_id'])]), axis=1)\n",
    "\n",
    "# Codificación en base 64, decodificación y almacenamiento nuevamente en la columna trip_id\n",
    "df['trip_id'] = df['trip_id'].apply(lambda x: base64.b64encode(x.encode()).decode())\n",
    "\n",
    "df['trip_id'].unique()"
   ]
  },
  {
   "cell_type": "markdown",
   "id": "56da428c",
   "metadata": {},
   "source": [
    "## 3. Agragación de nueva información (Data Augmentation)\n",
    "\n",
    "Siempre existe la posibilidad de acceder a información adicional proveniente de otros conjuntos de datos. En esta sección se usaran algunas funciones que nos permitan hacer esta agreación"
   ]
  },
  {
   "cell_type": "markdown",
   "id": "78286a80",
   "metadata": {},
   "source": [
    "### Fusión de dataframes"
   ]
  },
  {
   "cell_type": "code",
   "execution_count": 16,
   "id": "1c3cc8d6",
   "metadata": {},
   "outputs": [
    {
     "data": {
      "text/html": [
       "<div>\n",
       "<style scoped>\n",
       "    .dataframe tbody tr th:only-of-type {\n",
       "        vertical-align: middle;\n",
       "    }\n",
       "\n",
       "    .dataframe tbody tr th {\n",
       "        vertical-align: top;\n",
       "    }\n",
       "\n",
       "    .dataframe thead th {\n",
       "        text-align: right;\n",
       "    }\n",
       "</style>\n",
       "<table border=\"1\" class=\"dataframe\">\n",
       "  <thead>\n",
       "    <tr style=\"text-align: right;\">\n",
       "      <th></th>\n",
       "      <th>Station ID</th>\n",
       "      <th>Latitude</th>\n",
       "      <th>Longitude</th>\n",
       "      <th>Station Name</th>\n",
       "    </tr>\n",
       "  </thead>\n",
       "  <tbody>\n",
       "    <tr>\n",
       "      <th>0</th>\n",
       "      <td>1</td>\n",
       "      <td>51.529163</td>\n",
       "      <td>-0.109970</td>\n",
       "      <td>River Street , Clerkenwell</td>\n",
       "    </tr>\n",
       "    <tr>\n",
       "      <th>1</th>\n",
       "      <td>2</td>\n",
       "      <td>51.499606</td>\n",
       "      <td>-0.197574</td>\n",
       "      <td>Phillimore Gardens, Kensington</td>\n",
       "    </tr>\n",
       "    <tr>\n",
       "      <th>2</th>\n",
       "      <td>3</td>\n",
       "      <td>51.521283</td>\n",
       "      <td>-0.084605</td>\n",
       "      <td>Christopher Street, Liverpool Street</td>\n",
       "    </tr>\n",
       "    <tr>\n",
       "      <th>3</th>\n",
       "      <td>4</td>\n",
       "      <td>51.530059</td>\n",
       "      <td>-0.120973</td>\n",
       "      <td>St. Chad's Street, King's Cross</td>\n",
       "    </tr>\n",
       "    <tr>\n",
       "      <th>4</th>\n",
       "      <td>5</td>\n",
       "      <td>51.493130</td>\n",
       "      <td>-0.156876</td>\n",
       "      <td>Sedding Street, Sloane Square</td>\n",
       "    </tr>\n",
       "  </tbody>\n",
       "</table>\n",
       "</div>"
      ],
      "text/plain": [
       "   Station ID   Latitude  Longitude                          Station Name\n",
       "0           1  51.529163  -0.109970            River Street , Clerkenwell\n",
       "1           2  51.499606  -0.197574        Phillimore Gardens, Kensington\n",
       "2           3  51.521283  -0.084605  Christopher Street, Liverpool Street\n",
       "3           4  51.530059  -0.120973       St. Chad's Street, King's Cross\n",
       "4           5  51.493130  -0.156876         Sedding Street, Sloane Square"
      ]
     },
     "execution_count": 16,
     "metadata": {},
     "output_type": "execute_result"
    }
   ],
   "source": [
    "stations = pd.read_json(\"data/Limpieza/stations.json\", orient=\"columns\")\n",
    "stations.head()"
   ]
  },
  {
   "cell_type": "markdown",
   "id": "6deb7dd9",
   "metadata": {},
   "source": [
    "Los archivos **JSON** son un formato similar a los diccionarios y proveniente del lenguaje de programación `JavaScript`. Su uso como alternativa a los archivos **cvs** se explica en el uso de memoria. \n",
    "\n",
    "El argumento de orientación indica como se orientan los datos en el archivo **JSON**.\n",
    "\n",
    "~~~python\n",
    "{\n",
    "   \"col 1\":{\n",
    "      \"row 1\":\"This is column 1, row 1\",\n",
    "      \"row 2\":\"This is column 1, row 2\"\n",
    "   },\n",
    "   \"col 2\":{\n",
    "      \"row 1\":\"This is column 2, row 1\",\n",
    "      \"row 2\":\"This is column 2, row 2\"\n",
    "   }\n",
    "}\n",
    "~~~\n",
    "\n",
    "But let's say you have a file like this:\n",
    "\n",
    "~~~json\n",
    "{\n",
    "   \"row 1\":{\n",
    "      \"col 1\":\"This is row 1, column 1\",\n",
    "      \"col 2\":\"This is row 1, column 2\"\n",
    "   },\n",
    "   \"row 2\":{\n",
    "      \"col 1\":\"This is row 2, column 1\",\n",
    "      \"col 2\":\"This is row 2, column 2\"\n",
    "   }\n",
    "}\n",
    "~~~"
   ]
  },
  {
   "cell_type": "markdown",
   "id": "f8adbff6",
   "metadata": {},
   "source": [
    "Al observar la columna `location` se evidencia que no solo tienen nombre de la estación (y ubicación), por lo que sería útil si se diferencia esta información, en este caso separando los valores de las `,`. La función `str.strip()` permite manipular cadenas de texto y separarla usando un caracter específico o por espacios (en caso de considerar un único caracter se especifica con el argumento n=\"veces que queremos la separación\")"
   ]
  },
  {
   "cell_type": "code",
   "execution_count": 17,
   "id": "7694f14d",
   "metadata": {},
   "outputs": [
    {
     "data": {
      "text/html": [
       "<div>\n",
       "<style scoped>\n",
       "    .dataframe tbody tr th:only-of-type {\n",
       "        vertical-align: middle;\n",
       "    }\n",
       "\n",
       "    .dataframe tbody tr th {\n",
       "        vertical-align: top;\n",
       "    }\n",
       "\n",
       "    .dataframe thead th {\n",
       "        text-align: right;\n",
       "    }\n",
       "</style>\n",
       "<table border=\"1\" class=\"dataframe\">\n",
       "  <thead>\n",
       "    <tr style=\"text-align: right;\">\n",
       "      <th></th>\n",
       "      <th>0</th>\n",
       "      <th>1</th>\n",
       "    </tr>\n",
       "  </thead>\n",
       "  <tbody>\n",
       "    <tr>\n",
       "      <th>0</th>\n",
       "      <td>River Street</td>\n",
       "      <td>Clerkenwell</td>\n",
       "    </tr>\n",
       "    <tr>\n",
       "      <th>1</th>\n",
       "      <td>Phillimore Gardens</td>\n",
       "      <td>Kensington</td>\n",
       "    </tr>\n",
       "    <tr>\n",
       "      <th>2</th>\n",
       "      <td>Christopher Street</td>\n",
       "      <td>Liverpool Street</td>\n",
       "    </tr>\n",
       "    <tr>\n",
       "      <th>3</th>\n",
       "      <td>St. Chad's Street</td>\n",
       "      <td>King's Cross</td>\n",
       "    </tr>\n",
       "    <tr>\n",
       "      <th>4</th>\n",
       "      <td>Sedding Street</td>\n",
       "      <td>Sloane Square</td>\n",
       "    </tr>\n",
       "  </tbody>\n",
       "</table>\n",
       "</div>"
      ],
      "text/plain": [
       "                    0                  1\n",
       "0       River Street         Clerkenwell\n",
       "1  Phillimore Gardens         Kensington\n",
       "2  Christopher Street   Liverpool Street\n",
       "3   St. Chad's Street       King's Cross\n",
       "4      Sedding Street      Sloane Square"
      ]
     },
     "execution_count": 17,
     "metadata": {},
     "output_type": "execute_result"
    }
   ],
   "source": [
    "split_columns = stations[\"Station Name\"].str.split(pat=\",\", expand=True, n=1)\n",
    "split_columns.head()"
   ]
  },
  {
   "cell_type": "markdown",
   "id": "bfcc3449",
   "metadata": {},
   "source": [
    "Uso de `pd.concat()` para unificar el arreglo fragmentado de las localizaciones  las estaciones"
   ]
  },
  {
   "cell_type": "code",
   "execution_count": 18,
   "id": "964945e6",
   "metadata": {},
   "outputs": [
    {
     "data": {
      "text/html": [
       "<div>\n",
       "<style scoped>\n",
       "    .dataframe tbody tr th:only-of-type {\n",
       "        vertical-align: middle;\n",
       "    }\n",
       "\n",
       "    .dataframe tbody tr th {\n",
       "        vertical-align: top;\n",
       "    }\n",
       "\n",
       "    .dataframe thead th {\n",
       "        text-align: right;\n",
       "    }\n",
       "</style>\n",
       "<table border=\"1\" class=\"dataframe\">\n",
       "  <thead>\n",
       "    <tr style=\"text-align: right;\">\n",
       "      <th></th>\n",
       "      <th>station_id</th>\n",
       "      <th>latitude</th>\n",
       "      <th>longitude</th>\n",
       "      <th>station_name</th>\n",
       "      <th>location</th>\n",
       "    </tr>\n",
       "  </thead>\n",
       "  <tbody>\n",
       "    <tr>\n",
       "      <th>0</th>\n",
       "      <td>1</td>\n",
       "      <td>51.529163</td>\n",
       "      <td>-0.109970</td>\n",
       "      <td>River Street</td>\n",
       "      <td>Clerkenwell</td>\n",
       "    </tr>\n",
       "    <tr>\n",
       "      <th>1</th>\n",
       "      <td>2</td>\n",
       "      <td>51.499606</td>\n",
       "      <td>-0.197574</td>\n",
       "      <td>Phillimore Gardens</td>\n",
       "      <td>Kensington</td>\n",
       "    </tr>\n",
       "    <tr>\n",
       "      <th>2</th>\n",
       "      <td>3</td>\n",
       "      <td>51.521283</td>\n",
       "      <td>-0.084605</td>\n",
       "      <td>Christopher Street</td>\n",
       "      <td>Liverpool Street</td>\n",
       "    </tr>\n",
       "    <tr>\n",
       "      <th>3</th>\n",
       "      <td>4</td>\n",
       "      <td>51.530059</td>\n",
       "      <td>-0.120973</td>\n",
       "      <td>St. Chad's Street</td>\n",
       "      <td>King's Cross</td>\n",
       "    </tr>\n",
       "    <tr>\n",
       "      <th>4</th>\n",
       "      <td>5</td>\n",
       "      <td>51.493130</td>\n",
       "      <td>-0.156876</td>\n",
       "      <td>Sedding Street</td>\n",
       "      <td>Sloane Square</td>\n",
       "    </tr>\n",
       "  </tbody>\n",
       "</table>\n",
       "</div>"
      ],
      "text/plain": [
       "  station_id   latitude  longitude        station_name           location\n",
       "0          1  51.529163  -0.109970       River Street         Clerkenwell\n",
       "1          2  51.499606  -0.197574  Phillimore Gardens         Kensington\n",
       "2          3  51.521283  -0.084605  Christopher Street   Liverpool Street\n",
       "3          4  51.530059  -0.120973   St. Chad's Street       King's Cross\n",
       "4          5  51.493130  -0.156876      Sedding Street      Sloane Square"
      ]
     },
     "execution_count": 18,
     "metadata": {},
     "output_type": "execute_result"
    }
   ],
   "source": [
    "stations = pd.concat([stations, split_columns], axis=1)  #\n",
    "rename_dict = {\n",
    "    0:\"station_name\",\n",
    "    1:\"location\",\n",
    "    \"Latitude\":\"latitude\",\n",
    "    \"Longitude\":\"longitude\",\n",
    "    \"Station ID\":\"station_id\"\n",
    "}\n",
    "\n",
    "stations = stations.rename(columns=rename_dict)\n",
    "stations = stations.drop(columns=[\"Station Name\"])\n",
    "stations[\"station_id\"] = stations[\"station_id\"].astype(\"category\") # Convertir a categórico el ID de la estación\n",
    "\n",
    "stations.head()"
   ]
  },
  {
   "cell_type": "code",
   "execution_count": 19,
   "id": "fa3740b5",
   "metadata": {},
   "outputs": [],
   "source": [
    "# Asegurar que no hayan espacios vacíos al inicio o final\n",
    "\n",
    "stations[\"station_name\"] = stations[\"station_name\"].str.strip()\n",
    "stations[\"location\"] = stations[\"location\"].str.strip()"
   ]
  },
  {
   "cell_type": "markdown",
   "id": "b1e8cbdc",
   "metadata": {},
   "source": [
    "### Fusión de dataframes \n",
    "\n",
    "Ahora si se hace efectiva la fusión de datos de ambos DataFrames, pero ahora fusionando según los valores de las columnas"
   ]
  },
  {
   "cell_type": "code",
   "execution_count": 22,
   "id": "2312a928",
   "metadata": {},
   "outputs": [],
   "source": [
    "df = pd.merge(df, stations, left_on=\"start_station_id\", right_on=\"station_id\", how=\"left\") # Fusión utilizando las columnas\n",
    "\n",
    "rename_dict = {\n",
    "    \"latitude\":\"start_latitude\",\n",
    "    \"longitude\":\"start_longitude\",\n",
    "    \"station_name\":\"start_station_name\",\n",
    "    \"location\":\"start_location\"}\n",
    "\n",
    "df = df.rename(columns=rename_dict)\n",
    "\n",
    "# Eliminar las columnas adicionales redundantes\n",
    "df = df.drop(columns=[\"station_id\"])\n",
    "\n",
    "# Completar los valores perdidos con \"Not Available\" - Para las columnas tipo string\n",
    "obj_cols = df.columns[df.dtypes==\"object\"]\n",
    "df[obj_cols] = df[obj_cols].fillna('Not Available')"
   ]
  },
  {
   "cell_type": "code",
   "execution_count": 23,
   "id": "b28c9178",
   "metadata": {},
   "outputs": [],
   "source": [
    "# Se repite el procesimiento pero para las estaciones finales\n",
    "\n",
    "df = pd.merge(df, stations, left_on=\"end_station_id\", right_on=\"station_id\", how=\"left\") # Fusión utilizando las columnas\n",
    "\n",
    "rename_dict = {\n",
    "    \"latitude\":\"end_latitude\",\n",
    "    \"longitude\":\"end_longitude\",\n",
    "    \"station_name\":\"end_station_name\",\n",
    "    \"location\":\"end_location\"}\n",
    "\n",
    "df = df.rename(columns=rename_dict)\n",
    "\n",
    "# Eliminar las columnas adicionales redundantes\n",
    "df = df.drop(columns=[\"station_id\"])\n",
    "\n",
    "# Completar los valores perdidos con \"Not Available\" - Para las columnas tipo string\n",
    "obj_cols = df.columns[df.dtypes==\"object\"]\n",
    "df[obj_cols] = df[obj_cols].fillna('Not Available')"
   ]
  },
  {
   "cell_type": "code",
   "execution_count": 24,
   "id": "a06a77ba",
   "metadata": {},
   "outputs": [
    {
     "data": {
      "text/html": [
       "<div>\n",
       "<style scoped>\n",
       "    .dataframe tbody tr th:only-of-type {\n",
       "        vertical-align: middle;\n",
       "    }\n",
       "\n",
       "    .dataframe tbody tr th {\n",
       "        vertical-align: top;\n",
       "    }\n",
       "\n",
       "    .dataframe thead th {\n",
       "        text-align: right;\n",
       "    }\n",
       "</style>\n",
       "<table border=\"1\" class=\"dataframe\">\n",
       "  <thead>\n",
       "    <tr style=\"text-align: right;\">\n",
       "      <th></th>\n",
       "      <th>rental_id</th>\n",
       "      <th>duration</th>\n",
       "      <th>bike_id</th>\n",
       "      <th>end_date</th>\n",
       "      <th>end_station_id</th>\n",
       "      <th>start_date</th>\n",
       "      <th>start_station_id</th>\n",
       "      <th>tag</th>\n",
       "      <th>user_category</th>\n",
       "      <th>trip_id</th>\n",
       "      <th>start_latitude</th>\n",
       "      <th>start_longitude</th>\n",
       "      <th>start_station_name</th>\n",
       "      <th>start_location</th>\n",
       "      <th>end_latitude</th>\n",
       "      <th>end_longitude</th>\n",
       "      <th>end_station_name</th>\n",
       "      <th>end_location</th>\n",
       "    </tr>\n",
       "  </thead>\n",
       "  <tbody>\n",
       "    <tr>\n",
       "      <th>0</th>\n",
       "      <td>101428476</td>\n",
       "      <td>1680</td>\n",
       "      <td>12829.0</td>\n",
       "      <td>03/09/2020 20:32</td>\n",
       "      <td>132.0</td>\n",
       "      <td>03/09/2020 20:04</td>\n",
       "      <td>574</td>\n",
       "      <td>medium</td>\n",
       "      <td>0</td>\n",
       "      <td>MDMvMDkvMjAyMCAyMDowNDowMy8wOS8yMDIwIDIwOjMyOj...</td>\n",
       "      <td>51.533560</td>\n",
       "      <td>-0.093150</td>\n",
       "      <td>Eagle Wharf Road</td>\n",
       "      <td>Hoxton</td>\n",
       "      <td>51.523648</td>\n",
       "      <td>-0.074754</td>\n",
       "      <td>Bethnal Green Road</td>\n",
       "      <td>Shoreditch</td>\n",
       "    </tr>\n",
       "    <tr>\n",
       "      <th>1</th>\n",
       "      <td>101522714</td>\n",
       "      <td>2700</td>\n",
       "      <td>10863.0</td>\n",
       "      <td>06/09/2020 12:56</td>\n",
       "      <td>702.0</td>\n",
       "      <td>06/09/2020 12:11</td>\n",
       "      <td>82</td>\n",
       "      <td>medium</td>\n",
       "      <td>1</td>\n",
       "      <td>MDYvMDkvMjAyMCAxMjoxMTowNi8wOS8yMDIwIDEyOjU2Oj...</td>\n",
       "      <td>51.514274</td>\n",
       "      <td>-0.111257</td>\n",
       "      <td>Chancery Lane</td>\n",
       "      <td>Holborn</td>\n",
       "      <td>51.528681</td>\n",
       "      <td>-0.065550</td>\n",
       "      <td>Durant Street</td>\n",
       "      <td>Bethnal Green</td>\n",
       "    </tr>\n",
       "    <tr>\n",
       "      <th>2</th>\n",
       "      <td>101377356</td>\n",
       "      <td>420</td>\n",
       "      <td>3997.0</td>\n",
       "      <td>02/09/2020 10:56</td>\n",
       "      <td>97.0</td>\n",
       "      <td>02/09/2020 10:49</td>\n",
       "      <td>225</td>\n",
       "      <td>medium</td>\n",
       "      <td>0</td>\n",
       "      <td>MDIvMDkvMjAyMCAxMDo0OTowMi8wOS8yMDIwIDEwOjU2Oj...</td>\n",
       "      <td>51.509353</td>\n",
       "      <td>-0.196422</td>\n",
       "      <td>Notting Hill Gate Station</td>\n",
       "      <td>Notting Hill</td>\n",
       "      <td>51.497924</td>\n",
       "      <td>-0.183834</td>\n",
       "      <td>Gloucester Road (North)</td>\n",
       "      <td>Kensington</td>\n",
       "    </tr>\n",
       "    <tr>\n",
       "      <th>3</th>\n",
       "      <td>101393663</td>\n",
       "      <td>660</td>\n",
       "      <td>16542.0</td>\n",
       "      <td>02/09/2020 18:40</td>\n",
       "      <td>622.0</td>\n",
       "      <td>02/09/2020 18:29</td>\n",
       "      <td>97</td>\n",
       "      <td>medium</td>\n",
       "      <td>0</td>\n",
       "      <td>MDIvMDkvMjAyMCAxODoyOTowMi8wOS8yMDIwIDE4OjQwOj...</td>\n",
       "      <td>51.497924</td>\n",
       "      <td>-0.183834</td>\n",
       "      <td>Gloucester Road (North)</td>\n",
       "      <td>Kensington</td>\n",
       "      <td>51.507481</td>\n",
       "      <td>-0.205535</td>\n",
       "      <td>Lansdowne Road</td>\n",
       "      <td>Ladbroke Grove</td>\n",
       "    </tr>\n",
       "    <tr>\n",
       "      <th>4</th>\n",
       "      <td>101622659</td>\n",
       "      <td>660</td>\n",
       "      <td>1605.0</td>\n",
       "      <td>08/09/2020 19:57</td>\n",
       "      <td>219.0</td>\n",
       "      <td>08/09/2020 19:46</td>\n",
       "      <td>36</td>\n",
       "      <td>medium</td>\n",
       "      <td>0</td>\n",
       "      <td>MDgvMDkvMjAyMCAxOTo0NjowOC8wOS8yMDIwIDE5OjU3Oj...</td>\n",
       "      <td>51.501737</td>\n",
       "      <td>-0.184980</td>\n",
       "      <td>De Vere Gardens</td>\n",
       "      <td>Kensington</td>\n",
       "      <td>51.490163</td>\n",
       "      <td>-0.190393</td>\n",
       "      <td>Bramham Gardens</td>\n",
       "      <td>Earl's Court</td>\n",
       "    </tr>\n",
       "  </tbody>\n",
       "</table>\n",
       "</div>"
      ],
      "text/plain": [
       "   rental_id  duration  bike_id          end_date end_station_id  \\\n",
       "0  101428476      1680  12829.0  03/09/2020 20:32          132.0   \n",
       "1  101522714      2700  10863.0  06/09/2020 12:56          702.0   \n",
       "2  101377356       420   3997.0  02/09/2020 10:56           97.0   \n",
       "3  101393663       660  16542.0  02/09/2020 18:40          622.0   \n",
       "4  101622659       660   1605.0  08/09/2020 19:57          219.0   \n",
       "\n",
       "         start_date  start_station_id     tag user_category  \\\n",
       "0  03/09/2020 20:04               574  medium             0   \n",
       "1  06/09/2020 12:11                82  medium             1   \n",
       "2  02/09/2020 10:49               225  medium             0   \n",
       "3  02/09/2020 18:29                97  medium             0   \n",
       "4  08/09/2020 19:46                36  medium             0   \n",
       "\n",
       "                                             trip_id  start_latitude  \\\n",
       "0  MDMvMDkvMjAyMCAyMDowNDowMy8wOS8yMDIwIDIwOjMyOj...       51.533560   \n",
       "1  MDYvMDkvMjAyMCAxMjoxMTowNi8wOS8yMDIwIDEyOjU2Oj...       51.514274   \n",
       "2  MDIvMDkvMjAyMCAxMDo0OTowMi8wOS8yMDIwIDEwOjU2Oj...       51.509353   \n",
       "3  MDIvMDkvMjAyMCAxODoyOTowMi8wOS8yMDIwIDE4OjQwOj...       51.497924   \n",
       "4  MDgvMDkvMjAyMCAxOTo0NjowOC8wOS8yMDIwIDE5OjU3Oj...       51.501737   \n",
       "\n",
       "   start_longitude         start_station_name start_location  end_latitude  \\\n",
       "0        -0.093150           Eagle Wharf Road         Hoxton     51.523648   \n",
       "1        -0.111257              Chancery Lane        Holborn     51.528681   \n",
       "2        -0.196422  Notting Hill Gate Station   Notting Hill     51.497924   \n",
       "3        -0.183834    Gloucester Road (North)     Kensington     51.507481   \n",
       "4        -0.184980            De Vere Gardens     Kensington     51.490163   \n",
       "\n",
       "   end_longitude         end_station_name    end_location  \n",
       "0      -0.074754       Bethnal Green Road      Shoreditch  \n",
       "1      -0.065550            Durant Street   Bethnal Green  \n",
       "2      -0.183834  Gloucester Road (North)      Kensington  \n",
       "3      -0.205535           Lansdowne Road  Ladbroke Grove  \n",
       "4      -0.190393          Bramham Gardens    Earl's Court  "
      ]
     },
     "execution_count": 24,
     "metadata": {},
     "output_type": "execute_result"
    }
   ],
   "source": [
    "df.head()"
   ]
  },
  {
   "cell_type": "markdown",
   "id": "51de093f",
   "metadata": {},
   "source": [
    "## Ingeniería de características\n",
    "\n",
    "La ingeniería de características consiste en la creación de nuevas características basados en características ya existentes. Por ejemplo, el día de la semana basados en la fecha de renta de las bicicletas, hora de inicio o costo del alquiler"
   ]
  },
  {
   "cell_type": "code",
   "execution_count": 25,
   "id": "1330d234",
   "metadata": {},
   "outputs": [],
   "source": [
    "# Ya se ha generado el arreglo fusionado. Usted podría intentarlo al igual que en la sección previa\n",
    "df = pd.read_csv(\"data/Limpieza/df_exercise.csv\", parse_dates=[\"start_date\"])\n",
    "\n",
    "df['start_hour'] = df['start_date'].dt.hour # regresar la hora\n",
    "df['start_weekday'] = df['start_date'].dt.weekday # regresar el día de la semana () como un entero"
   ]
  },
  {
   "cell_type": "markdown",
   "id": "612af65a",
   "metadata": {},
   "source": [
    "### Creación de una columna para el costo de renta"
   ]
  },
  {
   "cell_type": "markdown",
   "id": "52119ef8",
   "metadata": {},
   "source": [
    "`math.ceil` redondea los valores a su entero superior"
   ]
  },
  {
   "cell_type": "code",
   "execution_count": 26,
   "id": "2adf9007",
   "metadata": {},
   "outputs": [],
   "source": [
    "df['time_blocks'] = df[\"duration_min\"].apply(lambda x: math.ceil(x/30)) # Se crean bloques de media hora (pago)"
   ]
  },
  {
   "cell_type": "code",
   "execution_count": 27,
   "id": "b85744d5",
   "metadata": {},
   "outputs": [],
   "source": [
    "df['time_blocks'] = df['time_blocks'] - 1  # El primer bloque es de 2, si se demora más se le cobran 2 adicionales"
   ]
  },
  {
   "cell_type": "code",
   "execution_count": 28,
   "id": "e2180f9a",
   "metadata": {},
   "outputs": [],
   "source": [
    "# La costo adicional sería el producto de 2 por el número de bloques adicionales\n",
    "\n",
    "rental_cost = df.groupby(\"rental_id\")[\"time_blocks\"].sum().reset_index()\n",
    "rental_cost[\"rental_cost\"] = 2 + (rental_cost[\"time_blocks\"]*2)\n",
    "rental_cost = rental_cost.drop(columns=[\"time_blocks\"])"
   ]
  },
  {
   "cell_type": "markdown",
   "id": "c796e431",
   "metadata": {},
   "source": [
    "## Exportación de dataset\n",
    "\n",
    "Finalmente después de contar con nuestro arreglo \"limpio\" procedemos a exportarlo :D"
   ]
  },
  {
   "cell_type": "code",
   "execution_count": 29,
   "id": "fd2a22e7",
   "metadata": {},
   "outputs": [],
   "source": [
    "df.to_csv(\"clean.csv\", encoding=\"utf-8\")"
   ]
  },
  {
   "cell_type": "code",
   "execution_count": null,
   "id": "cb790dae",
   "metadata": {},
   "outputs": [],
   "source": []
  }
 ],
 "metadata": {
  "kernelspec": {
   "display_name": "Python 3",
   "language": "python",
   "name": "python3"
  },
  "language_info": {
   "codemirror_mode": {
    "name": "ipython",
    "version": 3
   },
   "file_extension": ".py",
   "mimetype": "text/x-python",
   "name": "python",
   "nbconvert_exporter": "python",
   "pygments_lexer": "ipython3",
   "version": "3.8.8"
  }
 },
 "nbformat": 4,
 "nbformat_minor": 5
}
